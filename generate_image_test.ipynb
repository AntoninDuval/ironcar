{
 "cells": [
  {
   "cell_type": "code",
   "execution_count": 2,
   "metadata": {},
   "outputs": [
    {
     "name": "stderr",
     "output_type": "stream",
     "text": [
      "loading images: 100%|████████████████████████████████████████████████████████████████████| 1/1 [00:00<00:00, 26.88it/s]\n",
      "rotating images: 100%|██████████████████████████████████████████████████████████████████| 1/1 [00:00<00:00, 403.76it/s]\n",
      "resizing images: 100%|██████████████████████████████████████████████████████████████████| 1/1 [00:00<00:00, 155.07it/s]\n",
      "cropping images: 100%|█████████████████████████████████████████████████████████████████| 1/1 [00:00<00:00, 2009.73it/s]\n"
     ]
    },
    {
     "name": "stdout",
     "output_type": "stream",
     "text": [
      "Summary:\n",
      "Number of layers: 7\n",
      "Background\t1\t1\t1\t1\n",
      "DrawLines\n",
      "Symmetric\t0.5\n",
      "Filter\n",
      "Enhance\n",
      "Perspective\n",
      "Crop\n"
     ]
    },
    {
     "name": "stderr",
     "output_type": "stream",
     "text": [
      "100%|████████████████████████████████████████████████████████████████████████████████| 100/100 [00:01<00:00, 54.67it/s]\n"
     ]
    }
   ],
   "source": [
    "from roadsimulator.colors import Yellow, White, DarkShadow\n",
    "from roadsimulator.layers.layers import Background, Crop, Perspective, DrawLines, Symmetric\n",
    "from roadsimulator.layers.noise import Shadows, Filter, NoiseLines, Enhance\n",
    "from roadsimulator.simulator import Simulator\n",
    "\n",
    "\n",
    "if __name__ == '__main__':\n",
    "\n",
    "    width_begin, height_begin = 250, 200\n",
    "    width_end, height_end = 250, 70\n",
    "\n",
    "    xy0_range = [[x, height_begin] for x in range(0, width_begin+1)]  # add bottom edge of the picture\n",
    "    xy1_range = [[0, y] for y in range(int(height_begin/2), 0, -1)]  # add left edge of the picture\n",
    "    xy1_range += [[x, 0] for x in range(0, width_begin+1)]  # add top edge of the picture\n",
    "    xy1_range += [[width_begin-1, y] for y in range(0, int(height_begin/2))]  # add right edge of the picture\n",
    "    radius_range = list(range(200, 500)) + list(range(5000, 5300))\n",
    "    thickness_range = [6, 7, 8, 9, 10]\n",
    "\n",
    "    width_range = [i for i in range(width_end, 750)]\n",
    "    angle_max = 20\n",
    "\n",
    "    white_range = White()\n",
    "    yellow_range = Yellow()\n",
    "    shadow_colors = DarkShadow()\n",
    "\n",
    "    color_range = white_range + yellow_range\n",
    "\n",
    "    background_layer = Background(n_backgrounds=1,\n",
    "                                    path='ground_pics_ysance',\n",
    "                                    n_rot=1, n_res=1, n_crop=1,\n",
    "                                    input_size=(width_begin, height_begin),\n",
    "                                    width_range=width_range,\n",
    "                                    angle_max=angle_max)\n",
    "    lines_layer = DrawLines(xy0_range, xy1_range, radius_range,\n",
    "                            thickness_range, color_range,\n",
    "                            middle_line=(50, 30, 'dashed',yellow_range))\n",
    "    \n",
    "    symmetry_layer = Symmetric(proba=0.5)\n",
    "    filter_layer = Filter()\n",
    "    enhance_layer = Enhance()\n",
    "    perspective_layer = Perspective()\n",
    "    crop_layer = Crop()\n",
    "\n",
    "    layers = [background_layer, lines_layer, symmetry_layer, filter_layer, enhance_layer,perspective_layer, crop_layer]\n",
    "    simulator = Simulator(layers)\n",
    "\n",
    "    print(simulator.summary())\n",
    "\n",
    "    simulator.generate(n_examples=100, path='sample_dashed')"
   ]
  },
  {
   "cell_type": "code",
   "execution_count": 15,
   "metadata": {},
   "outputs": [
    {
     "data": {
      "text/plain": [
       "<roadsimulator.colors.Yellow at 0x9fbc9b0>"
      ]
     },
     "execution_count": 15,
     "metadata": {},
     "output_type": "execute_result"
    }
   ],
   "source": [
    "yellow_range"
   ]
  }
 ],
 "metadata": {
  "kernelspec": {
   "display_name": "Python 3",
   "language": "python",
   "name": "python3"
  },
  "language_info": {
   "codemirror_mode": {
    "name": "ipython",
    "version": 3
   },
   "file_extension": ".py",
   "mimetype": "text/x-python",
   "name": "python",
   "nbconvert_exporter": "python",
   "pygments_lexer": "ipython3",
   "version": "3.6.6"
  }
 },
 "nbformat": 4,
 "nbformat_minor": 2
}
